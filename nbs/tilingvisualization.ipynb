{
 "cells": [
  {
   "cell_type": "markdown",
   "id": "0",
   "metadata": {},
   "source": [
    "# Tiling Visualization"
   ]
  },
  {
   "cell_type": "code",
   "execution_count": null,
   "id": "1",
   "metadata": {},
   "outputs": [],
   "source": [
    "import matplotlib.pyplot as plt\n",
    "import numpy as np"
   ]
  },
  {
   "cell_type": "code",
   "execution_count": null,
   "id": "2",
   "metadata": {},
   "outputs": [],
   "source": [
    "W = 8\n",
    "H = 8\n",
    "O = 16  # offset"
   ]
  },
  {
   "cell_type": "markdown",
   "id": "3",
   "metadata": {},
   "source": [
    "## Utilities"
   ]
  },
  {
   "cell_type": "code",
   "execution_count": null,
   "id": "4",
   "metadata": {},
   "outputs": [],
   "source": [
    "def plot_idxs(idxs, marker=\"s\", ec=\"C0\", hc=\"C1\"):\n",
    "    for i, ixs in enumerate(idxs, start=-1):\n",
    "        a = 0.2 if i < 0 else 1.0\n",
    "        c = \"k\" if i < 0 else (hc if i % 2 else ec)\n",
    "        plt.scatter(ixs, i * np.ones_like(ixs), marker=marker, color=c, alpha=a)\n",
    "    plt.axis(\"equal\")\n",
    "    plt.grid(True)\n",
    "    plt.xticks(idxs[0])\n",
    "    plt.yticks(np.arange(len(idxs)) - 1)"
   ]
  },
  {
   "cell_type": "markdown",
   "id": "5",
   "metadata": {},
   "source": [
    "## Mountains"
   ]
  },
  {
   "cell_type": "code",
   "execution_count": null,
   "id": "6",
   "metadata": {},
   "outputs": [],
   "source": [
    "m_idxs = [np.arange(O, O + W)]\n",
    "for h in range(0, H):\n",
    "    start = O + h // 2 + 1\n",
    "    stop = O + W - (h + 1) // 2\n",
    "    m_idxs.append(np.arange(start, stop))"
   ]
  },
  {
   "cell_type": "code",
   "execution_count": null,
   "id": "7",
   "metadata": {},
   "outputs": [],
   "source": [
    "plot_idxs(m_idxs)"
   ]
  },
  {
   "cell_type": "markdown",
   "id": "8",
   "metadata": {},
   "source": [
    "## Valleys"
   ]
  },
  {
   "cell_type": "code",
   "execution_count": null,
   "id": "9",
   "metadata": {},
   "outputs": [],
   "source": [
    "v_idxs = [np.arange(O + W // 2, O + 3 * W // 2)]\n",
    "for h in range(0, H):\n",
    "    start = O + W - (h + 1) // 2\n",
    "    stop = O + W + 1 + h // 2\n",
    "    v_idxs.append(np.arange(start, stop))"
   ]
  },
  {
   "cell_type": "code",
   "execution_count": null,
   "id": "10",
   "metadata": {},
   "outputs": [],
   "source": [
    "plot_idxs(v_idxs)"
   ]
  },
  {
   "cell_type": "markdown",
   "id": "11",
   "metadata": {},
   "source": [
    "## Mountains & Valleys"
   ]
  },
  {
   "cell_type": "code",
   "execution_count": null,
   "id": "12",
   "metadata": {},
   "outputs": [],
   "source": [
    "plot_idxs(m_idxs)\n",
    "plot_idxs(v_idxs, marker=\".\", ec=\"b\", hc=\"r\")"
   ]
  },
  {
   "cell_type": "markdown",
   "id": "13",
   "metadata": {},
   "source": [
    "## Parallelogram"
   ]
  },
  {
   "cell_type": "code",
   "execution_count": null,
   "id": "14",
   "metadata": {},
   "outputs": [],
   "source": [
    "p_idxs = [np.arange(O - W / 2 + 1, O + W + 1)]\n",
    "for h in range(0, H):\n",
    "    start = O + 1 - (h + 1) // 2\n",
    "    stop = O + W + 1 - (h + 1) // 2\n",
    "    p_idxs.append(np.arange(start, stop))"
   ]
  },
  {
   "cell_type": "code",
   "execution_count": null,
   "id": "15",
   "metadata": {},
   "outputs": [],
   "source": [
    "plot_idxs(p_idxs)"
   ]
  },
  {
   "cell_type": "markdown",
   "id": "16",
   "metadata": {},
   "source": [
    "## 2 Parallelograms"
   ]
  },
  {
   "cell_type": "code",
   "execution_count": null,
   "id": "17",
   "metadata": {},
   "outputs": [],
   "source": [
    "p2_idxs = [np.arange(O - W / 2 + 1 + W, O + W + 1 + W)]\n",
    "for h in range(0, H):\n",
    "    start = O + W + 1 - (h + 1) // 2\n",
    "    stop = O + W + W + 1 - (h + 1) // 2\n",
    "    p2_idxs.append(np.arange(start, stop))"
   ]
  },
  {
   "cell_type": "code",
   "execution_count": null,
   "id": "18",
   "metadata": {},
   "outputs": [],
   "source": [
    "plot_idxs(p_idxs)\n",
    "plot_idxs(p2_idxs, marker=\".\", ec=\"b\", hc=\"r\")"
   ]
  }
 ],
 "metadata": {
  "kernelspec": {
   "display_name": "jkyk",
   "language": "python",
   "name": "jkyk"
  },
  "language_info": {
   "codemirror_mode": {
    "name": "ipython",
    "version": 3
   },
   "file_extension": ".py",
   "mimetype": "text/x-python",
   "name": "python",
   "nbconvert_exporter": "python",
   "pygments_lexer": "ipython3",
   "version": "3.12.10"
  }
 },
 "nbformat": 4,
 "nbformat_minor": 5
}
