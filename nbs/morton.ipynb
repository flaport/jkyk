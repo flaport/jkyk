{
 "cells": [
  {
   "cell_type": "markdown",
   "id": "0",
   "metadata": {},
   "source": [
    "# Morton Curves"
   ]
  },
  {
   "cell_type": "code",
   "execution_count": null,
   "id": "1",
   "metadata": {},
   "outputs": [],
   "source": [
    "import matplotlib.pyplot as plt\n",
    "import matplotlib.transforms as transforms\n",
    "import numpy as np\n",
    "from mpl_toolkits.mplot3d import Axes3D"
   ]
  },
  {
   "cell_type": "markdown",
   "id": "2",
   "metadata": {},
   "source": [
    "## 2D"
   ]
  },
  {
   "cell_type": "code",
   "execution_count": null,
   "id": "3",
   "metadata": {},
   "outputs": [],
   "source": [
    "def morton(x: int, y: int) -> int:\n",
    "    return (_part1by1(x) << 1) | _part1by1(y)\n",
    "\n",
    "\n",
    "def imorton(index: int) -> tuple[int, int]:\n",
    "    x = _compact1by1(index >> 1)\n",
    "    y = _compact1by1(index)\n",
    "    return x, y\n",
    "\n",
    "\n",
    "def _part1by1(n):\n",
    "    n &= 0x0000FFFF\n",
    "    n = (n | (n << 8)) & 0x00FF00FF\n",
    "    n = (n | (n << 4)) & 0x0F0F0F0F\n",
    "    n = (n | (n << 2)) & 0x33333333\n",
    "    n = (n | (n << 1)) & 0x55555555\n",
    "    return n\n",
    "\n",
    "\n",
    "def _compact1by1(n):\n",
    "    n &= 0x55555555\n",
    "    n = (n ^ (n >> 1)) & 0x33333333\n",
    "    n = (n ^ (n >> 2)) & 0x0F0F0F0F\n",
    "    n = (n ^ (n >> 4)) & 0x00FF00FF\n",
    "    n = (n ^ (n >> 8)) & 0x0000FFFF\n",
    "    return n"
   ]
  },
  {
   "cell_type": "code",
   "execution_count": null,
   "id": "4",
   "metadata": {},
   "outputs": [],
   "source": [
    "n = 8\n",
    "Ax, Ay = np.mgrid[:n, :n]\n",
    "A = n * Ax + Ay\n",
    "A"
   ]
  },
  {
   "cell_type": "code",
   "execution_count": null,
   "id": "5",
   "metadata": {},
   "outputs": [],
   "source": [
    "B = morton(Ax, Ay)\n",
    "Bx = B // n\n",
    "By = B % n\n",
    "B\n",
    "print(B)"
   ]
  },
  {
   "cell_type": "code",
   "execution_count": null,
   "id": "6",
   "metadata": {},
   "outputs": [],
   "source": [
    "a = transforms.Affine2D()\n",
    "a.inverted"
   ]
  },
  {
   "cell_type": "code",
   "execution_count": null,
   "id": "7",
   "metadata": {},
   "outputs": [],
   "source": [
    "C = np.array([imorton(i) for i in range(n * n)])"
   ]
  },
  {
   "cell_type": "code",
   "execution_count": null,
   "id": "8",
   "metadata": {},
   "outputs": [],
   "source": [
    "def swap(x, y, delta=0.0):\n",
    "    return y + delta, x + delta"
   ]
  },
  {
   "cell_type": "code",
   "execution_count": null,
   "id": "9",
   "metadata": {},
   "outputs": [],
   "source": [
    "fig, ax = plt.subplots(1, 1)\n",
    "ax.xaxis.tick_top()\n",
    "# plt.imshow(B)\n",
    "ax.invert_yaxis()\n",
    "plt.xticks(a := np.arange(-0.5, n + 0.5, 1.0), [\"\" for _ in a])\n",
    "plt.yticks(a := np.arange(-0.5, n + 0.5, 1.0), [\"\" for _ in a])\n",
    "plt.xticks(a := np.arange(0, n, 1), [f\"{i}\" for i in a], minor=True)\n",
    "plt.yticks(a := np.arange(0, n, 1), [f\"{i}\" for i in a], minor=True)\n",
    "plt.plot(*swap(*C.T), color=\"black\")\n",
    "plt.axis(\"scaled\")\n",
    "plt.grid(True)\n",
    "plt.show()"
   ]
  },
  {
   "cell_type": "markdown",
   "id": "10",
   "metadata": {},
   "source": [
    "## 3D"
   ]
  },
  {
   "cell_type": "code",
   "execution_count": null,
   "id": "11",
   "metadata": {},
   "outputs": [],
   "source": [
    "def morton3D(x: int, y: int, z: int) -> int:\n",
    "    return (_part1by2(x) << 2) | (_part1by2(y) << 1) | (_part1by2(z) << 0)\n",
    "\n",
    "\n",
    "def imorton3D(index: int) -> tuple[int, int, int]:\n",
    "    z = _compact1by2(index >> 0)\n",
    "    y = _compact1by2(index >> 1)\n",
    "    x = _compact1by2(index >> 2)\n",
    "    return x, y, z\n",
    "\n",
    "\n",
    "def _part1by2(n):\n",
    "    n &= 0x000003FF  # only 10 bits\n",
    "    n = (n | (n << 16)) & 0x030000FF\n",
    "    n = (n | (n << 8)) & 0x0300F00F\n",
    "    n = (n | (n << 4)) & 0x030C30C3\n",
    "    n = (n | (n << 2)) & 0x09249249\n",
    "    return n\n",
    "\n",
    "\n",
    "def _compact1by2(n):\n",
    "    n &= 0x09249249\n",
    "    n = (n ^ (n >> 2)) & 0x030C30C3\n",
    "    n = (n ^ (n >> 4)) & 0x0300F00F\n",
    "    n = (n ^ (n >> 8)) & 0x030000FF\n",
    "    n = (n ^ (n >> 16)) & 0x000003FF\n",
    "    return n"
   ]
  },
  {
   "cell_type": "code",
   "execution_count": null,
   "id": "12",
   "metadata": {},
   "outputs": [],
   "source": [
    "m = 8\n",
    "C = np.array([imorton3D(i) for i in range(m * m * m)])\n",
    "\n",
    "\n",
    "# Sample data\n",
    "x = np.random.rand(100)\n",
    "y = np.random.rand(100)\n",
    "z = np.random.rand(100)\n",
    "\n",
    "# Create 3D figure\n",
    "fig = plt.figure()\n",
    "ax = fig.add_subplot(111, projection=\"3d\")\n",
    "\n",
    "# Plot the points\n",
    "ax.plot(*C.T)\n",
    "\n",
    "# Labels\n",
    "ax.set_xlabel(\"X Axis\")\n",
    "ax.set_ylabel(\"Y Axis\")\n",
    "ax.set_zlabel(\"Z Axis\")\n",
    "\n",
    "plt.show()"
   ]
  }
 ],
 "metadata": {
  "kernelspec": {
   "display_name": "jkyk",
   "language": "python",
   "name": "jkyk"
  },
  "language_info": {
   "codemirror_mode": {
    "name": "ipython",
    "version": 3
   },
   "file_extension": ".py",
   "mimetype": "text/x-python",
   "name": "python",
   "nbconvert_exporter": "python",
   "pygments_lexer": "ipython3",
   "version": "3.12.10"
  }
 },
 "nbformat": 4,
 "nbformat_minor": 5
}
