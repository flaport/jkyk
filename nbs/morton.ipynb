{
 "cells": [
  {
   "cell_type": "markdown",
   "id": "0",
   "metadata": {},
   "source": [
    "# Morton Curves"
   ]
  },
  {
   "cell_type": "code",
   "execution_count": null,
   "id": "1",
   "metadata": {},
   "outputs": [],
   "source": [
    "import matplotlib.pyplot as plt\n",
    "import matplotlib.transforms as transforms\n",
    "import numpy as np\n",
    "\n",
    "from jkyk.morton import morton2D, imorton2D, imorton3D"
   ]
  },
  {
   "cell_type": "markdown",
   "id": "2",
   "metadata": {},
   "source": [
    "## 2D"
   ]
  },
  {
   "cell_type": "code",
   "execution_count": null,
   "id": "3",
   "metadata": {},
   "outputs": [],
   "source": [
    "n = 8\n",
    "Ax, Ay = np.mgrid[:n, :n]\n",
    "A = n * Ax + Ay\n",
    "A"
   ]
  },
  {
   "cell_type": "code",
   "execution_count": null,
   "id": "4",
   "metadata": {},
   "outputs": [],
   "source": [
    "B = morton2D(Ax, Ay)\n",
    "Bx = B // n\n",
    "By = B % n\n",
    "B\n",
    "print(B)"
   ]
  },
  {
   "cell_type": "code",
   "execution_count": null,
   "id": "5",
   "metadata": {},
   "outputs": [],
   "source": [
    "a = transforms.Affine2D()\n",
    "a.inverted"
   ]
  },
  {
   "cell_type": "code",
   "execution_count": null,
   "id": "6",
   "metadata": {},
   "outputs": [],
   "source": [
    "C = np.array([imorton2D(i) for i in range(n * n)])"
   ]
  },
  {
   "cell_type": "code",
   "execution_count": null,
   "id": "7",
   "metadata": {},
   "outputs": [],
   "source": [
    "def swap(x, y, delta=0.0):\n",
    "    return y + delta, x + delta"
   ]
  },
  {
   "cell_type": "code",
   "execution_count": null,
   "id": "8",
   "metadata": {},
   "outputs": [],
   "source": [
    "fig, ax = plt.subplots(1, 1)\n",
    "ax.xaxis.tick_top()\n",
    "# plt.imshow(B)\n",
    "ax.invert_yaxis()\n",
    "plt.xticks(a := np.arange(-0.5, n + 0.5, 1.0), [\"\" for _ in a])\n",
    "plt.yticks(a := np.arange(-0.5, n + 0.5, 1.0), [\"\" for _ in a])\n",
    "plt.xticks(a := np.arange(0, n, 1), [f\"{i}\" for i in a], minor=True)\n",
    "plt.yticks(a := np.arange(0, n, 1), [f\"{i}\" for i in a], minor=True)\n",
    "plt.plot(*swap(*C.T), color=\"black\")\n",
    "plt.axis(\"scaled\")\n",
    "plt.grid(True)\n",
    "plt.show()"
   ]
  },
  {
   "cell_type": "markdown",
   "id": "9",
   "metadata": {},
   "source": [
    "## 3D"
   ]
  },
  {
   "cell_type": "code",
   "execution_count": null,
   "id": "10",
   "metadata": {},
   "outputs": [],
   "source": [
    "m = 8\n",
    "C = np.array([imorton3D(i) for i in range(m * m * m)])\n",
    "\n",
    "\n",
    "# Sample data\n",
    "x = np.random.rand(100)\n",
    "y = np.random.rand(100)\n",
    "z = np.random.rand(100)\n",
    "\n",
    "# Create 3D figure\n",
    "fig = plt.figure()\n",
    "ax = fig.add_subplot(111, projection=\"3d\")\n",
    "\n",
    "# Plot the points\n",
    "ax.plot(*C.T)\n",
    "\n",
    "# Labels\n",
    "ax.set_xlabel(\"X Axis\")\n",
    "ax.set_ylabel(\"Y Axis\")\n",
    "ax.set_zlabel(\"Z Axis\")\n",
    "\n",
    "plt.show()"
   ]
  }
 ],
 "metadata": {
  "kernelspec": {
   "display_name": "jkyk",
   "language": "python",
   "name": "jkyk"
  },
  "language_info": {
   "codemirror_mode": {
    "name": "ipython",
    "version": 3
   },
   "file_extension": ".py",
   "mimetype": "text/x-python",
   "name": "python",
   "nbconvert_exporter": "python",
   "pygments_lexer": "ipython3",
   "version": "3.12.10"
  }
 },
 "nbformat": 4,
 "nbformat_minor": 5
}
